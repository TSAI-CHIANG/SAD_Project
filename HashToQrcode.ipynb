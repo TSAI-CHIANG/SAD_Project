{
 "cells": [
  {
   "cell_type": "code",
   "execution_count": 1,
   "metadata": {},
   "outputs": [],
   "source": [
    "import qrcode\n",
    "import hashlib\n"
   ]
  },
  {
   "cell_type": "code",
   "execution_count": null,
   "metadata": {},
   "outputs": [],
   "source": [
    "def generate_hash(input_integer):\n",
    "    # 將整數轉換為字串\n",
    "    input_string = str(input_integer)\n",
    "\n",
    "    # 使用SHA-256哈希函數\n",
    "    sha256_hash = hashlib.sha256()\n",
    "\n",
    "    # 更新哈希函數的輸入數據\n",
    "    sha256_hash.update(input_string.encode('utf-8'))\n",
    "\n",
    "    # 獲取哈希碼的16進位表示\n",
    "    hash_code = sha256_hash.hexdigest()\n",
    "\n",
    "    return hash_code\n",
    "\n",
    "# 輸入要生成哈希碼的整數\n",
    "input_integer_ID = int(input(\"Product ID: \")) #請輸入要生成哈希碼的整數\n",
    "input_integer_Date= int(input(\"Manufacture date:(YYYYMMDD) \"))\n",
    "\n",
    "# 生成哈希碼\n",
    "hash_result = generate_hash(input_integer_ID+input_integer_Date)\n",
    "print(f\"原始整數: {input_integer_ID+input_integer_Date}\")\n",
    "print(f\"SHA-256哈希碼: {hash_result}\")"
   ]
  },
  {
   "cell_type": "code",
   "execution_count": 3,
   "metadata": {},
   "outputs": [
    {
     "name": "stdout",
     "output_type": "stream",
     "text": [
      "QR碼已生成並保存為 qrcode.png\n"
     ]
    }
   ],
   "source": [
    "import qrcode\n",
    "\n",
    "def generate_qrcode(data):\n",
    "    # 創建QR code\n",
    "    qr = qrcode.QRCode(\n",
    "        version=1,\n",
    "        error_correction=qrcode.constants.ERROR_CORRECT_L,\n",
    "        box_size=10,\n",
    "        border=4,\n",
    "    )\n",
    "    \n",
    "    # 加入data\n",
    "    qr.add_data(data)\n",
    "    qr.make(fit=True)\n",
    "    \n",
    "    # 創建QR圖片\n",
    "    img = qr.make_image(fill_color=\"black\", back_color=\"white\")\n",
    "    \n",
    "    # 保存QR\n",
    "    img.save(\"qrqrcode.png\")\n",
    "\n",
    "# 輸入要轉換為QR碼的任意字串或hash碼\n",
    "hash_code = f\"https://vmtkax61gby6k86z8qxbjg.on.drv.tw/dist11/?={hash_result}\" #input hash for QR code generating\n",
    "###網址加上hash字串\n",
    "\n",
    "# 生成QR碼\n",
    "generate_qrcode(hash_code)\n",
    "#\n",
    "print(\"QR已生成並保存為 qrcode.png\")\n",
    "\n"
   ]
  },
  {
   "cell_type": "code",
   "execution_count": 10,
   "metadata": {},
   "outputs": [
    {
     "name": "stdout",
     "output_type": "stream",
     "text": [
      "Data: Hello, this is the data to sign.\n",
      "Signature: e0946e675d55ad0575a5c729aac3a429147fad75fd0d712ac0848f9316e7b5bb\n"
     ]
    }
   ],
   "source": [
    "\"\"\"\n",
    "數位簽章應用SHA\n",
    "使用 SHA-256 哈希函數對輸入的數據進行哈希，\n",
    "然後返回哈希值作為數位簽章。這樣的數位簽章通常是不可逆的。\n",
    "但請注意，這種方法並不提供非對稱加密的安全性。\n",
    "\"\"\"\n",
    "\n",
    "def generate_signature(data):\n",
    "    # 使用SHA-256哈希函數生成簽名\n",
    "    sha256_hash = hashlib.sha256(data).hexdigest()\n",
    "    return sha256_hash\n",
    "\n",
    "# 範例使用\n",
    "data_to_sign = b\"Hello, this is the data to sign.\" #要從前端拿簽名資料???\n",
    "signature = generate_signature(data_to_sign)\n",
    "\n",
    "print(\"Data:\", data_to_sign.decode('utf-8'))\n",
    "print(\"Signature:\", signature)\n",
    "#簽章加密後是否要存回DB？？？\n"
   ]
  },
  {
   "cell_type": "code",
   "execution_count": null,
   "metadata": {},
   "outputs": [],
   "source": []
  }
 ],
 "metadata": {
  "kernelspec": {
   "display_name": "base",
   "language": "python",
   "name": "python3"
  },
  "language_info": {
   "codemirror_mode": {
    "name": "ipython",
    "version": 3
   },
   "file_extension": ".py",
   "mimetype": "text/x-python",
   "name": "python",
   "nbconvert_exporter": "python",
   "pygments_lexer": "ipython3",
   "version": "3.8.3"
  }
 },
 "nbformat": 4,
 "nbformat_minor": 2
}
